{
 "cells": [
  {
   "cell_type": "code",
   "execution_count": null,
   "metadata": {},
   "outputs": [],
   "source": [
    "import requests\n",
    "\n",
    "enlace = 'https://www.py4e.com/code3/mbox.txt' #Descargamos el archivo\n",
    "response = requests.get(enlace)\n",
    "texto = response.text #Conversion a string\n",
    "\n",
    "vocales = \"aeiouAEIOU\" #Vocales tanto mayusculas como minusculas\n",
    "consonantes = \"bcdfghjklmnpqrstvwxyzBCDFGHJKLMNPQRSTVWXYZ\" #Consonantes tanto mayusculas como minusculas\n",
    "\n",
    "cantidad_vocales = 0 #Contador de vocales que inicia en 0\n",
    "for letra in texto: #Ciclo para contar vocales\n",
    "    if letra in vocales:\n",
    "        cantidad_vocales += 1 #Actualizacion\n",
    "\n",
    "cantidad_consonantes = 0 #Contador de consonantes que inicia en 0\n",
    "for letra in texto: #Ciclo para contar consonantes\n",
    "    if letra in consonantes:\n",
    "        cantidad_consonantes += 1 #Actualizacion\n",
    "\n",
    "palabras = texto.lower().split() #Convertir el texto a minusculas\n",
    "frecuencia_palabras = {} #Se alacena la frecuencia de cada palabra en un diccionario\n",
    "\n",
    "for palabra in palabras:\n",
    "    palabra_limpia = '' #Almacen de palabras sin algun caracter que no sea una letra\n",
    "    for c in palabra:\n",
    "        if c.isalnum(): #Verifica si el caracter es alfanumerico\n",
    "            palabra_limpia += c #Añade la palabra\n",
    "    \n",
    "    if palabra_limpia: \n",
    "        if palabra_limpia in frecuencia_palabras:\n",
    "            frecuencia_palabras[palabra_limpia] += 1 #Incrementa la frecuencia de la palabra en el diccionario\n",
    "        else:\n",
    "            frecuencia_palabras[palabra_limpia] = 1 #La deja con frecuencia inicial de 1\n",
    "\n",
    "\n",
    "palabras_mas_comunes = sorted(frecuencia_palabras.items(), key=lambda x: x[1], reverse=True)[:50] #Analiza las palabras con mayor frecuencia\n",
    "\n",
    "\n",
    "print(f'Cantidad de vocales: {cantidad_vocales}') #Imprime la cantidad de vocales\n",
    "print(f'Cantidad de consonantes: {cantidad_consonantes}') #Imprime la cantidad de consonantes\n",
    "print('Las 50 palabras más frecuentes son:') #Letrero que indica el apartado de las frecuencias de las palabras\n",
    "for palabra, frecuencia in palabras_mas_comunes: #Ciclo para imprimir la palabra y su frecuencia\n",
    "    print(f'{palabra}: {frecuencia}')\n"
   ]
  }
 ],
 "metadata": {
  "kernelspec": {
   "display_name": "Python 3",
   "language": "python",
   "name": "python3"
  },
  "language_info": {
   "name": "python",
   "version": "3.13.2"
  }
 },
 "nbformat": 4,
 "nbformat_minor": 2
}
